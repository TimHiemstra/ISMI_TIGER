{
 "cells": [
  {
   "cell_type": "code",
   "execution_count": 1,
   "metadata": {
    "id": "VIpCSfjGvv3e",
    "scrolled": true
   },
   "outputs": [
    {
     "name": "stdout",
     "output_type": "stream",
     "text": [
      "Requirement already satisfied: matplotlib in c:\\users\\timhi\\anaconda3\\envs\\ismi\\lib\\site-packages (3.7.1)\n",
      "Requirement already satisfied: numpy in c:\\users\\timhi\\anaconda3\\envs\\ismi\\lib\\site-packages (1.24.3)\n",
      "Requirement already satisfied: cython in c:\\users\\timhi\\anaconda3\\envs\\ismi\\lib\\site-packages (0.29.34)\n",
      "Requirement already satisfied: tqdm in c:\\users\\timhi\\anaconda3\\envs\\ismi\\lib\\site-packages (4.65.0)\n",
      "Requirement already satisfied: pyyaml in c:\\users\\timhi\\anaconda3\\envs\\ismi\\lib\\site-packages (6.0)\n",
      "Requirement already satisfied: tensorboard in c:\\users\\timhi\\anaconda3\\envs\\ismi\\lib\\site-packages (2.13.0)\n",
      "Requirement already satisfied: pandas in c:\\users\\timhi\\anaconda3\\envs\\ismi\\lib\\site-packages (2.0.1)\n",
      "Requirement already satisfied: opencv-python in c:\\users\\timhi\\anaconda3\\envs\\ismi\\lib\\site-packages (4.7.0.72)\n",
      "Requirement already satisfied: seaborn in c:\\users\\timhi\\anaconda3\\envs\\ismi\\lib\\site-packages (0.12.2)\n",
      "Requirement already satisfied: scipy in c:\\users\\timhi\\anaconda3\\envs\\ismi\\lib\\site-packages (1.10.1)\n",
      "Requirement already satisfied: contourpy>=1.0.1 in c:\\users\\timhi\\anaconda3\\envs\\ismi\\lib\\site-packages (from matplotlib) (1.0.7)\n",
      "Requirement already satisfied: cycler>=0.10 in c:\\users\\timhi\\anaconda3\\envs\\ismi\\lib\\site-packages (from matplotlib) (0.11.0)\n",
      "Requirement already satisfied: fonttools>=4.22.0 in c:\\users\\timhi\\anaconda3\\envs\\ismi\\lib\\site-packages (from matplotlib) (4.39.4)\n",
      "Requirement already satisfied: kiwisolver>=1.0.1 in c:\\users\\timhi\\anaconda3\\envs\\ismi\\lib\\site-packages (from matplotlib) (1.4.4)\n",
      "Requirement already satisfied: packaging>=20.0 in c:\\users\\timhi\\anaconda3\\envs\\ismi\\lib\\site-packages (from matplotlib) (23.0)\n",
      "Requirement already satisfied: pillow>=6.2.0 in c:\\users\\timhi\\anaconda3\\envs\\ismi\\lib\\site-packages (from matplotlib) (9.5.0)\n",
      "Requirement already satisfied: pyparsing>=2.3.1 in c:\\users\\timhi\\anaconda3\\envs\\ismi\\lib\\site-packages (from matplotlib) (3.0.9)\n",
      "Requirement already satisfied: python-dateutil>=2.7 in c:\\users\\timhi\\anaconda3\\envs\\ismi\\lib\\site-packages (from matplotlib) (2.8.2)\n",
      "Requirement already satisfied: colorama in c:\\users\\timhi\\anaconda3\\envs\\ismi\\lib\\site-packages (from tqdm) (0.4.6)\n",
      "Requirement already satisfied: absl-py>=0.4 in c:\\users\\timhi\\anaconda3\\envs\\ismi\\lib\\site-packages (from tensorboard) (1.4.0)\n",
      "Requirement already satisfied: grpcio>=1.48.2 in c:\\users\\timhi\\anaconda3\\envs\\ismi\\lib\\site-packages (from tensorboard) (1.54.2)\n",
      "Requirement already satisfied: google-auth<3,>=1.6.3 in c:\\users\\timhi\\anaconda3\\envs\\ismi\\lib\\site-packages (from tensorboard) (2.18.1)\n",
      "Requirement already satisfied: google-auth-oauthlib<1.1,>=0.5 in c:\\users\\timhi\\anaconda3\\envs\\ismi\\lib\\site-packages (from tensorboard) (1.0.0)\n",
      "Requirement already satisfied: markdown>=2.6.8 in c:\\users\\timhi\\anaconda3\\envs\\ismi\\lib\\site-packages (from tensorboard) (3.4.3)\n",
      "Requirement already satisfied: protobuf>=3.19.6 in c:\\users\\timhi\\anaconda3\\envs\\ismi\\lib\\site-packages (from tensorboard) (4.23.1)\n",
      "Requirement already satisfied: requests<3,>=2.21.0 in c:\\users\\timhi\\anaconda3\\envs\\ismi\\lib\\site-packages (from tensorboard) (2.28.1)\n",
      "Requirement already satisfied: setuptools>=41.0.0 in c:\\users\\timhi\\anaconda3\\envs\\ismi\\lib\\site-packages (from tensorboard) (66.0.0)\n",
      "Requirement already satisfied: tensorboard-data-server<0.8.0,>=0.7.0 in c:\\users\\timhi\\anaconda3\\envs\\ismi\\lib\\site-packages (from tensorboard) (0.7.0)\n",
      "Requirement already satisfied: werkzeug>=1.0.1 in c:\\users\\timhi\\anaconda3\\envs\\ismi\\lib\\site-packages (from tensorboard) (2.3.4)\n",
      "Requirement already satisfied: wheel>=0.26 in c:\\users\\timhi\\anaconda3\\envs\\ismi\\lib\\site-packages (from tensorboard) (0.38.4)\n",
      "Requirement already satisfied: pytz>=2020.1 in c:\\users\\timhi\\anaconda3\\envs\\ismi\\lib\\site-packages (from pandas) (2023.3)\n",
      "Requirement already satisfied: tzdata>=2022.1 in c:\\users\\timhi\\anaconda3\\envs\\ismi\\lib\\site-packages (from pandas) (2023.3)\n",
      "Requirement already satisfied: cachetools<6.0,>=2.0.0 in c:\\users\\timhi\\anaconda3\\envs\\ismi\\lib\\site-packages (from google-auth<3,>=1.6.3->tensorboard) (5.3.0)\n",
      "Requirement already satisfied: pyasn1-modules>=0.2.1 in c:\\users\\timhi\\anaconda3\\envs\\ismi\\lib\\site-packages (from google-auth<3,>=1.6.3->tensorboard) (0.3.0)\n",
      "Requirement already satisfied: six>=1.9.0 in c:\\users\\timhi\\anaconda3\\envs\\ismi\\lib\\site-packages (from google-auth<3,>=1.6.3->tensorboard) (1.16.0)\n",
      "Requirement already satisfied: urllib3<2.0 in c:\\users\\timhi\\anaconda3\\envs\\ismi\\lib\\site-packages (from google-auth<3,>=1.6.3->tensorboard) (1.26.13)\n",
      "Requirement already satisfied: rsa<5,>=3.1.4 in c:\\users\\timhi\\anaconda3\\envs\\ismi\\lib\\site-packages (from google-auth<3,>=1.6.3->tensorboard) (4.9)\n",
      "Requirement already satisfied: requests-oauthlib>=0.7.0 in c:\\users\\timhi\\anaconda3\\envs\\ismi\\lib\\site-packages (from google-auth-oauthlib<1.1,>=0.5->tensorboard) (1.3.1)\n",
      "Requirement already satisfied: charset-normalizer<3,>=2 in c:\\users\\timhi\\anaconda3\\envs\\ismi\\lib\\site-packages (from requests<3,>=2.21.0->tensorboard) (2.1.1)\n",
      "Requirement already satisfied: idna<4,>=2.5 in c:\\users\\timhi\\anaconda3\\envs\\ismi\\lib\\site-packages (from requests<3,>=2.21.0->tensorboard) (3.4)\n",
      "Requirement already satisfied: certifi>=2017.4.17 in c:\\users\\timhi\\anaconda3\\envs\\ismi\\lib\\site-packages (from requests<3,>=2.21.0->tensorboard) (2022.12.7)\n",
      "Requirement already satisfied: MarkupSafe>=2.1.1 in c:\\users\\timhi\\anaconda3\\envs\\ismi\\lib\\site-packages (from werkzeug>=1.0.1->tensorboard) (2.1.1)\n",
      "Requirement already satisfied: pyasn1<0.6.0,>=0.4.6 in c:\\users\\timhi\\anaconda3\\envs\\ismi\\lib\\site-packages (from pyasn1-modules>=0.2.1->google-auth<3,>=1.6.3->tensorboard) (0.5.0)\n",
      "Requirement already satisfied: oauthlib>=3.0.0 in c:\\users\\timhi\\anaconda3\\envs\\ismi\\lib\\site-packages (from requests-oauthlib>=0.7.0->google-auth-oauthlib<1.1,>=0.5->tensorboard) (3.2.2)\n",
      "Looking in indexes: https://download.pytorch.org/whl/cu117\n",
      "Requirement already satisfied: torch in c:\\users\\timhi\\anaconda3\\envs\\ismi\\lib\\site-packages (2.0.1+cu117)\n",
      "Requirement already satisfied: torchvision in c:\\users\\timhi\\anaconda3\\envs\\ismi\\lib\\site-packages (0.15.2+cu117)\n",
      "Requirement already satisfied: torchaudio in c:\\users\\timhi\\anaconda3\\envs\\ismi\\lib\\site-packages (2.0.2+cu117)\n",
      "Requirement already satisfied: filelock in c:\\users\\timhi\\anaconda3\\envs\\ismi\\lib\\site-packages (from torch) (3.9.0)\n",
      "Requirement already satisfied: typing-extensions in c:\\users\\timhi\\anaconda3\\envs\\ismi\\lib\\site-packages (from torch) (4.5.0)\n",
      "Requirement already satisfied: sympy in c:\\users\\timhi\\anaconda3\\envs\\ismi\\lib\\site-packages (from torch) (1.11.1)\n",
      "Requirement already satisfied: networkx in c:\\users\\timhi\\anaconda3\\envs\\ismi\\lib\\site-packages (from torch) (3.0)\n",
      "Requirement already satisfied: jinja2 in c:\\users\\timhi\\anaconda3\\envs\\ismi\\lib\\site-packages (from torch) (3.1.2)\n",
      "Requirement already satisfied: numpy in c:\\users\\timhi\\anaconda3\\envs\\ismi\\lib\\site-packages (from torchvision) (1.24.3)\n",
      "Requirement already satisfied: requests in c:\\users\\timhi\\anaconda3\\envs\\ismi\\lib\\site-packages (from torchvision) (2.28.1)\n",
      "Requirement already satisfied: pillow!=8.3.*,>=5.3.0 in c:\\users\\timhi\\anaconda3\\envs\\ismi\\lib\\site-packages (from torchvision) (9.5.0)\n",
      "Requirement already satisfied: MarkupSafe>=2.0 in c:\\users\\timhi\\anaconda3\\envs\\ismi\\lib\\site-packages (from jinja2->torch) (2.1.1)\n",
      "Requirement already satisfied: charset-normalizer<3,>=2 in c:\\users\\timhi\\anaconda3\\envs\\ismi\\lib\\site-packages (from requests->torchvision) (2.1.1)\n",
      "Requirement already satisfied: idna<4,>=2.5 in c:\\users\\timhi\\anaconda3\\envs\\ismi\\lib\\site-packages (from requests->torchvision) (3.4)\n",
      "Requirement already satisfied: urllib3<1.27,>=1.21.1 in c:\\users\\timhi\\anaconda3\\envs\\ismi\\lib\\site-packages (from requests->torchvision) (1.26.13)\n",
      "Requirement already satisfied: certifi>=2017.4.17 in c:\\users\\timhi\\anaconda3\\envs\\ismi\\lib\\site-packages (from requests->torchvision) (2022.12.7)\n",
      "Requirement already satisfied: mpmath>=0.19 in c:\\users\\timhi\\anaconda3\\envs\\ismi\\lib\\site-packages (from sympy->torch) (1.2.1)\n",
      "Collecting pycocotools\n",
      "  Cloning https://github.com/philferriere/cocoapi.git to c:\\users\\timhi\\appdata\\local\\temp\\pip-install-6x8upty7\\pycocotools_1a6969493e714a1c99207523ab492d15\n",
      "  Resolved https://github.com/philferriere/cocoapi.git to commit 2929bd2ef6b451054755dfd7ceb09278f935f7ad\n",
      "  Preparing metadata (setup.py): started\n",
      "  Preparing metadata (setup.py): finished with status 'done'\n"
     ]
    },
    {
     "name": "stderr",
     "output_type": "stream",
     "text": [
      "  Running command git clone --filter=blob:none --quiet https://github.com/philferriere/cocoapi.git 'C:\\Users\\timhi\\AppData\\Local\\Temp\\pip-install-6x8upty7\\pycocotools_1a6969493e714a1c99207523ab492d15'\n"
     ]
    }
   ],
   "source": [
    "# !pip3 install torch==1.13.1+cu117 torchvision>=0.13.1+cu117 torchaudio>=0.13.1+cu117 --extra-index-url https://download.pytorch.org/whl/cu117 --no-cache-dir \n",
    "# !pip3 install lightning pillow numpy opencv-python ultralytics cython\n",
    "# !pip3 install pytorchyolo\n",
    "!pip3 install matplotlib numpy cython tqdm pyyaml tensorboard pandas opencv-python seaborn scipy\n",
    "!pip3 install torch torchvision torchaudio --index-url https://download.pytorch.org/whl/cu117\n",
    "!pip3 install \"git+https://github.com/philferriere/cocoapi.git#egg=pycocotools&subdirectory=PythonAPI\""
   ]
  },
  {
   "cell_type": "code",
   "execution_count": 1,
   "metadata": {},
   "outputs": [
    {
     "name": "stdout",
     "output_type": "stream",
     "text": [
      "Thu May 25 19:40:11 2023       \n",
      "+---------------------------------------------------------------------------------------+\n",
      "| NVIDIA-SMI 531.18                 Driver Version: 531.18       CUDA Version: 12.1     |\n",
      "|-----------------------------------------+----------------------+----------------------+\n",
      "| GPU  Name                      TCC/WDDM | Bus-Id        Disp.A | Volatile Uncorr. ECC |\n",
      "| Fan  Temp  Perf            Pwr:Usage/Cap|         Memory-Usage | GPU-Util  Compute M. |\n",
      "|                                         |                      |               MIG M. |\n",
      "|=========================================+======================+======================|\n",
      "|   0  NVIDIA GeForce RTX 3060       WDDM | 00000000:01:00.0  On |                  N/A |\n",
      "| 32%   44C    P8               14W / 170W|    661MiB / 12288MiB |      2%      Default |\n",
      "|                                         |                      |                  N/A |\n",
      "+-----------------------------------------+----------------------+----------------------+\n",
      "                                                                                         \n",
      "+---------------------------------------------------------------------------------------+\n",
      "| Processes:                                                                            |\n",
      "|  GPU   GI   CI        PID   Type   Process name                            GPU Memory |\n",
      "|        ID   ID                                                             Usage      |\n",
      "|=======================================================================================|\n",
      "|    0   N/A  N/A      1144    C+G   C:\\Program Files\\LGHUB\\lghub.exe          N/A      |\n",
      "|    0   N/A  N/A      5384    C+G   ...\\cef\\cef.win7x64\\steamwebhelper.exe    N/A      |\n",
      "|    0   N/A  N/A      5968    C+G   ...al\\Discord\\app-1.0.9013\\Discord.exe    N/A      |\n",
      "|    0   N/A  N/A      9932    C+G   ...t.LockApp_cw5n1h2txyewy\\LockApp.exe    N/A      |\n",
      "|    0   N/A  N/A     10960    C+G   C:\\Windows\\explorer.exe                   N/A      |\n",
      "|    0   N/A  N/A     12764    C+G   ...CBS_cw5n1h2txyewy\\TextInputHost.exe    N/A      |\n",
      "|    0   N/A  N/A     13160    C+G   ...on\\wallpaper_engine\\wallpaper32.exe    N/A      |\n",
      "|    0   N/A  N/A     13800    C+G   ...\\Local\\Medal\\app-4.2046.0\\Medal.exe    N/A      |\n",
      "|    0   N/A  N/A     15992    C+G   ...siveControlPanel\\SystemSettings.exe    N/A      |\n",
      "|    0   N/A  N/A     18448    C+G   ...oogle\\Chrome\\Application\\chrome.exe    N/A      |\n",
      "|    0   N/A  N/A     18560    C+G   ...GeForce Experience\\NVIDIA Share.exe    N/A      |\n",
      "|    0   N/A  N/A     18616    C+G   ...5n1h2txyewy\\ShellExperienceHost.exe    N/A      |\n",
      "|    0   N/A  N/A     19952    C+G   ...03.0_x64__8wekyb3d8bbwe\\Cortana.exe    N/A      |\n",
      "|    0   N/A  N/A     20980    C+G   ...GeForce Experience\\NVIDIA Share.exe    N/A      |\n",
      "|    0   N/A  N/A     21444    C+G   ...64__8wekyb3d8bbwe\\CalculatorApp.exe    N/A      |\n",
      "|    0   N/A  N/A     21640    C+G   ...al\\Discord\\app-1.0.9013\\Discord.exe    N/A      |\n",
      "|    0   N/A  N/A     22760    C+G   ....Search_cw5n1h2txyewy\\SearchApp.exe    N/A      |\n",
      "|    0   N/A  N/A     25664    C+G   ...B\\system_tray\\lghub_system_tray.exe    N/A      |\n",
      "|    0   N/A  N/A     26092    C+G   ...1.0_x64__8wekyb3d8bbwe\\Video.UI.exe    N/A      |\n",
      "+---------------------------------------------------------------------------------------+\n"
     ]
    }
   ],
   "source": [
    "import gc\n",
    "import torch\n",
    "\n",
    "gc.collect()\n",
    "\n",
    "torch.cuda.empty_cache()\n",
    "!nvidia-smi"
   ]
  },
  {
   "cell_type": "code",
   "execution_count": 2,
   "metadata": {},
   "outputs": [
    {
     "name": "stdout",
     "output_type": "stream",
     "text": [
      "\u001b[34m\u001b[1mwandb: \u001b[0mInstall Weights & Biases for YOLOR logging with 'pip install wandb' (recommended)\n",
      "\n",
      "\u001b[34m\u001b[1mautoanchor: \u001b[0mAnalyzing anchors... anchors/target = 4.47, Best Possible Recall (BPR) = 1.0000\n",
      "                 all          90        2602      0.0918       0.116      0.0218     0.00404\n",
      "                 all          90        2602       0.145       0.221      0.0548      0.0114\n",
      "                 all          90        2602       0.142       0.266      0.0631      0.0128\n",
      "                 all          90        2602       0.363       0.359       0.217       0.076\n",
      "                 all          90        2602       0.471       0.372       0.305        0.11\n",
      "                 all          90        2602       0.467       0.409        0.36       0.154\n",
      "                 all          90        2602       0.539       0.421       0.382       0.163\n",
      "                 all          90        2602       0.535       0.463       0.414       0.186\n",
      "                 all          90        2602       0.558       0.481       0.475        0.22\n",
      "                 all          90        2602       0.508       0.532       0.459       0.203\n",
      "                 all          90        2602       0.531       0.571       0.513       0.235\n",
      "                 all          90        2602       0.464       0.558       0.415       0.149\n",
      "                 all          90        2602       0.523       0.544       0.482       0.213\n",
      "                 all          90        2602       0.542       0.553       0.498       0.192\n",
      "                 all          90        2602       0.584       0.545       0.544       0.249\n",
      "                 all          90        2602       0.573       0.575        0.55       0.256\n",
      "                 all          90        2602       0.376       0.631       0.341       0.136\n",
      "                 all          90        2602       0.486       0.614       0.437       0.183\n",
      "                 all          90        2602       0.472       0.612       0.489       0.213\n",
      "                 all          90        2602       0.564       0.553       0.507       0.202\n",
      "                 all          90        2602       0.418       0.669       0.372       0.168\n",
      "                 all          90        2602       0.524       0.599       0.474       0.212\n",
      "                 all          90        2602       0.364       0.625       0.291       0.122\n",
      "                 all          90        2602       0.571       0.604       0.564        0.25\n",
      "                 all          90        2602        0.55       0.645       0.562       0.255\n",
      "                 all          90        2602       0.448        0.62        0.41       0.177\n",
      "                 all          90        2602       0.492       0.651       0.501       0.227\n",
      "                 all          90        2602        0.47       0.646       0.418       0.182\n",
      "                 all          90        2602       0.542       0.636       0.542       0.244\n",
      "                 all          90        2602       0.595       0.595       0.577       0.276\n",
      "                 all          90        2602       0.532       0.674       0.583       0.281\n",
      "                 all          90        2602        0.53       0.548       0.469       0.195\n",
      "                 all          90        2602       0.525       0.605       0.495       0.231\n",
      "                 all          90        2602       0.535       0.669       0.579       0.276\n",
      "                 all          90        2602       0.553       0.636       0.563       0.256\n",
      "                 all          90        2602       0.552       0.662       0.548        0.26\n",
      "                 all          90        2602       0.601        0.62       0.588        0.28\n",
      "                 all          90        2602       0.478       0.569       0.424       0.191\n",
      "                 all          90        2602       0.569       0.624       0.574        0.29\n",
      "                 all          90        2602        0.44        0.67       0.427       0.192\n",
      "                 all          90        2602       0.339       0.631       0.265       0.116\n",
      "                 all          90        2602       0.481        0.62       0.424       0.178\n",
      "                 all          90        2602       0.478       0.597       0.404       0.174\n",
      "                 all          90        2602       0.489        0.62       0.443       0.178\n",
      "                 all          90        2602       0.492        0.65       0.458       0.208\n",
      "                 all          90        2602         0.6       0.581        0.59       0.281\n",
      "                 all          90        2602       0.553       0.639        0.53       0.246\n",
      "                 all          90        2602       0.602       0.564       0.573       0.279\n",
      "                 all          90        2602       0.536       0.639       0.545       0.265\n",
      "                 all          90        2602       0.577       0.646       0.572       0.285\n",
      "                 all          90        2602       0.448         0.6       0.385        0.18\n",
      "                 all          90        2602       0.571       0.606       0.549       0.268\n",
      "                 all          90        2602        0.52       0.631       0.492       0.249\n",
      "                 all          90        2602       0.541       0.671        0.57       0.299\n",
      "                 all          90        2602       0.613       0.593       0.562       0.287\n",
      "                 all          90        2602       0.517       0.618       0.483       0.232\n",
      "                 all          90        2602       0.531       0.655       0.541        0.26\n",
      "                 all          90        2602       0.609       0.599       0.571       0.284\n",
      "                 all          90        2602       0.611       0.585       0.569         0.3\n",
      "                 all          90        2602       0.398       0.602       0.328       0.132\n",
      "                 all          90        2602       0.317       0.539       0.238      0.0906\n",
      "                 all          90        2602       0.593        0.58       0.544       0.261\n",
      "                 all          90        2602       0.539       0.631       0.521       0.254\n",
      "                 all          90        2602       0.473       0.617       0.432       0.206\n",
      "                 all          90        2602       0.296       0.664       0.248       0.109\n",
      "                 all          90        2602       0.602       0.606        0.57       0.294\n",
      "                 all          90        2602       0.546       0.614       0.495       0.246\n",
      "                 all          90        2602       0.367       0.648       0.319       0.158\n",
      "                 all          90        2602       0.538       0.625       0.492       0.248\n",
      "                 all          90        2602       0.567        0.61       0.521       0.264\n",
      "                 all          90        2602       0.598       0.622       0.553       0.273\n",
      "                 all          90        2602       0.582       0.604       0.526       0.254\n",
      "                 all          90        2602       0.599       0.651       0.604       0.329\n",
      "                 all          90        2602       0.636       0.623       0.613       0.319\n",
      "                 all          90        2602       0.535       0.665       0.561       0.283\n",
      "                 all          90        2602        0.56       0.654       0.552       0.295\n",
      "                 all          90        2602       0.617       0.646       0.616       0.315\n",
      "                 all          90        2602       0.568        0.63       0.537       0.274\n",
      "                 all          90        2602       0.323       0.691       0.279       0.132\n",
      "                 all          90        2602       0.506       0.603       0.462       0.229\n",
      "                 all          90        2602       0.653       0.608       0.624       0.331\n",
      "                 all          90        2602        0.54       0.667       0.537       0.276\n",
      "                 all          90        2602       0.337       0.645       0.281       0.135\n",
      "                 all          90        2602       0.544       0.629       0.509       0.258\n",
      "                 all          90        2602       0.396       0.647       0.331       0.169\n",
      "                 all          90        2602       0.367       0.625       0.304        0.15\n",
      "                 all          90        2602       0.282       0.718       0.241       0.117\n",
      "                 all          90        2602       0.413       0.643       0.349       0.172\n",
      "                 all          90        2602        0.33       0.706       0.285       0.142\n",
      "                 all          90        2602        0.44       0.677       0.381       0.199\n",
      "                 all          90        2602       0.395       0.632       0.328       0.164\n",
      "                 all          90        2602       0.573       0.641       0.579       0.291\n",
      "                 all          90        2602       0.615        0.64       0.601       0.301\n",
      "                 all          90        2602       0.616       0.645       0.591         0.3\n",
      "                 all          90        2602        0.64        0.63       0.621       0.324\n",
      "                 all          90        2602       0.619        0.64       0.612        0.32\n",
      "                 all          90        2602       0.586       0.661        0.58       0.302\n",
      "                 all          90        2602       0.412       0.646       0.341       0.165\n",
      "                 all          90        2602       0.429       0.666       0.363       0.177\n",
      "                 all          90        2602       0.457       0.643       0.398       0.192\n",
      "Optimizer stripped from runs\\train\\yololym2\\weights\\last.pt, 74.8MB\n",
      "Optimizer stripped from runs\\train\\yololym2\\weights\\best.pt, 74.8MB\n"
     ]
    },
    {
     "name": "stderr",
     "output_type": "stream",
     "text": [
      "IOPub data rate exceeded.\n",
      "The notebook server will temporarily stop sending output\n",
      "to the client in order to avoid crashing it.\n",
      "To change this limit, set the config variable\n",
      "`--NotebookApp.iopub_data_rate_limit`.\n",
      "\n",
      "Current values:\n",
      "NotebookApp.iopub_data_rate_limit=1000000.0 (bytes/sec)\n",
      "NotebookApp.rate_limit_window=3.0 (secs)\n",
      "\n"
     ]
    }
   ],
   "source": [
    "!python train.py --data data/cells.yaml --workers 4 --batch-size 2 --cfg cfg/training/yolov7cells.yaml --weights 'yolov7_training.pt' --name yololym --hyp data/hyp.scratch.custom.yaml --epochs 100 --multi-scale"
   ]
  },
  {
   "cell_type": "code",
   "execution_count": 3,
   "metadata": {},
   "outputs": [
    {
     "name": "stdout",
     "output_type": "stream",
     "text": [
      "Namespace(weights=['C:\\\\Users\\\\timhi\\\\Documents\\\\school\\\\ISMI\\\\Project\\\\note\\\\yolov7\\\\runs\\\\train\\\\yolov7cells3\\\\weights\\\\best.pt'], source='C:\\\\Users\\\\timhi\\\\Documents\\\\school\\\\ISMI\\\\Project\\\\note\\\\cell_dataset', img_size=640, conf_thres=0.25, iou_thres=0.45, device='', view_img=False, save_txt=False, save_conf=False, nosave=False, classes=None, agnostic_nms=False, augment=False, update=False, project='runs/detect', name='exp', exist_ok=False, no_trace=False)\n",
      "Fusing layers... \n",
      "RepConv.fuse_repvgg_block\n",
      "RepConv.fuse_repvgg_block\n",
      "RepConv.fuse_repvgg_block\n",
      "IDetect.fuse\n",
      " Convert model to Traced-model... \n",
      " traced_script_module saved! \n",
      " model is traced! \n",
      "\n",
      "Done. (12.0ms) Inference, (1.0ms) NMS\n",
      " The image with the result is saved in: runs\\detect\\exp2\\753.jpg\n",
      "7 lymphocitesandplasmacellss, Done. (13.0ms) Inference, (18.0ms) NMS\n",
      " The image with the result is saved in: runs\\detect\\exp2\\777.jpg\n",
      "15 lymphocitesandplasmacellss, Done. (12.0ms) Inference, (1.0ms) NMS\n",
      " The image with the result is saved in: runs\\detect\\exp2\\804.jpg\n",
      "Done. (0.085s)\n"
     ]
    },
    {
     "name": "stderr",
     "output_type": "stream",
     "text": [
      "YOLOR  v0.1-122-g3b41c2c torch 2.0.1+cu117 CUDA:0 (NVIDIA GeForce RTX 3060, 12287.5MB)\n",
      "\n",
      "Model Summary: 314 layers, 36481772 parameters, 6194944 gradients\n",
      "C:\\Users\\timhi\\anaconda3\\envs\\ismi\\Lib\\site-packages\\torch\\functional.py:504: UserWarning: torch.meshgrid: in an upcoming release, it will be required to pass the indexing argument. (Triggered internally at ..\\aten\\src\\ATen\\native\\TensorShape.cpp:3484.)\n",
      "  return _VF.meshgrid(tensors, **kwargs)  # type: ignore[attr-defined]\n"
     ]
    }
   ],
   "source": [
    "# !python detect.py --weights C:\\Users\\timhi\\Documents\\school\\ISMI\\Project\\note\\yolov7\\runs\\train\\yolov7cells4\\weights\\best.pt --source \"C:\\Users\\timhi\\Documents\\school\\ISMI\\Project\\note\\cell_dataset\""
   ]
  },
  {
   "cell_type": "code",
   "execution_count": 2,
   "metadata": {
    "scrolled": true
   },
   "outputs": [
    {
     "name": "stdout",
     "output_type": "stream",
     "text": [
      "Namespace(weights=['C:\\\\Users\\\\timhi\\\\Documents\\\\school\\\\ISMI\\\\Project\\\\note\\\\yolov7\\\\runs\\\\train\\\\yololym2\\\\weights\\\\best.pt'], data='data/cells.yaml', batch_size=32, img_size=640, conf_thres=0.001, iou_thres=0.9, task='test', device='', single_cls=False, augment=False, verbose=False, save_txt=False, save_hybrid=False, save_conf=False, save_json=False, project='runs/test', name='exp', exist_ok=False, no_trace=False, v5_metric=False)"
     ]
    },
    {
     "name": "stderr",
     "output_type": "stream",
     "text": [
      "YOLOR  v0.1-122-g3b41c2c torch 2.0.1+cu117 CUDA:0 (NVIDIA GeForce RTX 3060, 12287.5MB)\n",
      "\n",
      "Model Summary: 314 layers, 36481772 parameters, 6194944 gradients\n",
      "C:\\Users\\timhi\\anaconda3\\envs\\ismi\\Lib\\site-packages\\torch\\functional.py:504: UserWarning: torch.meshgrid: in an upcoming release, it will be required to pass the indexing argument. (Triggered internally at ..\\aten\\src\\ATen\\native\\TensorShape.cpp:3484.)\n",
      "  return _VF.meshgrid(tensors, **kwargs)  # type: ignore[attr-defined]\n",
      "\n",
      "\u001b[34m\u001b[1mtest: \u001b[0mScanning 'C:\\Users\\timhi\\Documents\\school\\ISMI\\Project\\note\\yolov7\\cell_dataset\\labels\\test.cache' images and labels... 112 found, 0 missing, 0 empty, 18 corrupted: 100%|##########| 112/112 [00:00<?, ?it/s]\n",
      "\u001b[34m\u001b[1mtest: \u001b[0mScanning 'C:\\Users\\timhi\\Documents\\school\\ISMI\\Project\\note\\yolov7\\cell_dataset\\labels\\test.cache' images and labels... 112 found, 0 missing, 0 empty, 18 corrupted: 100%|##########| 112/112 [00:00<?, ?it/s]\n",
      "\n",
      "               Class      Images      Labels           P           R      mAP@.5  mAP@.5:.95:   0%|          | 0/3 [00:00<?, ?it/s]\n",
      "               Class      Images      Labels           P           R      mAP@.5  mAP@.5:.95:  33%|###3      | 1/3 [00:03<00:07,  3.65s/it]\n",
      "               Class      Images      Labels           P           R      mAP@.5  mAP@.5:.95:  67%|######6   | 2/3 [00:06<00:03,  3.07s/it]\n",
      "               Class      Images      Labels           P           R      mAP@.5  mAP@.5:.95: 100%|##########| 3/3 [00:08<00:00,  2.67s/it]\n",
      "               Class      Images      Labels           P           R      mAP@.5  mAP@.5:.95: 100%|##########| 3/3 [00:08<00:00,  2.84s/it]\n"
     ]
    },
    {
     "name": "stdout",
     "output_type": "stream",
     "text": [
      "\n",
      "Fusing layers... \n",
      "RepConv.fuse_repvgg_block\n",
      "RepConv.fuse_repvgg_block\n",
      "RepConv.fuse_repvgg_block\n",
      "IDetect.fuse\n",
      " Convert model to Traced-model... \n",
      " traced_script_module saved! \n",
      " model is traced! \n",
      "\n",
      "                 all          94        2303       0.385        0.59       0.329       0.165\n",
      "Speed: 33.5/3.9/37.3 ms inference/NMS/total per 640x640 image at batch-size 32\n",
      "Results saved to runs\\test\\exp13\n"
     ]
    }
   ],
   "source": [
    "!python test.py --weights C:\\Users\\timhi\\Documents\\school\\ISMI\\Project\\note\\yolov7\\runs\\train\\yololym2\\weights\\best.pt --task test --data data/cells.yaml --iou-thres 0.65"
   ]
  },
  {
   "cell_type": "code",
   "execution_count": 18,
   "metadata": {},
   "outputs": [],
   "source": [
    "# # define helper functions to show images\n",
    "# def imShow(path):\n",
    "#   import cv2\n",
    "#   import matplotlib.pyplot as plt\n",
    "#   %matplotlib inline\n",
    "\n",
    "#   image = cv2.imread(path)\n",
    "#   height, width = image.shape[:2]\n",
    "#   resized_image = cv2.resize(image,(3*width, 3*height), interpolation = cv2.INTER_CUBIC)\n",
    "\n",
    "#   fig = plt.gcf()\n",
    "#   fig.set_size_inches(18, 10)\n",
    "#   plt.axis(\"off\")\n",
    "#   plt.imshow(cv2.cvtColor(resized_image, cv2.COLOR_BGR2RGB))\n",
    "#   plt.show()\n",
    "\n",
    "# imShow(\"yolov7/runs/detect/exp3/100B_[10779, 11621, 12102, 12874].png\")"
   ]
  },
  {
   "cell_type": "code",
   "execution_count": null,
   "metadata": {},
   "outputs": [],
   "source": []
  }
 ],
 "metadata": {
  "colab": {
   "provenance": []
  },
  "kernelspec": {
   "display_name": "Python 3 (ipykernel)",
   "language": "python",
   "name": "python3"
  },
  "language_info": {
   "codemirror_mode": {
    "name": "ipython",
    "version": 3
   },
   "file_extension": ".py",
   "mimetype": "text/x-python",
   "name": "python",
   "nbconvert_exporter": "python",
   "pygments_lexer": "ipython3",
   "version": "3.11.3"
  }
 },
 "nbformat": 4,
 "nbformat_minor": 1
}
